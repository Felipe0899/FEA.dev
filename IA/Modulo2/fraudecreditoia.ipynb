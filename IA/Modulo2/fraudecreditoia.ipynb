{
 "cells": [
  {
   "cell_type": "markdown",
   "id": "cf3e6a0f",
   "metadata": {},
   "source": [
    "Esse código usa o seguinte dataset do kaggle: https://www.kaggle.com/datasets/mlg-ulb/creditcardfraud\n",
    "\n",
    "Para testar, baixe o arquivo csv e salve na mesma pasta que o código com o nome \"creditcard.csv\""
   ]
  },
  {
   "cell_type": "code",
   "execution_count": null,
   "id": "88f1447e-04f5-4a39-b346-ec015eb6d0a6",
   "metadata": {},
   "outputs": [],
   "source": [
    "import pandas as pd\n",
    "import numpy as np\n",
    "from sklearn.decomposition import PCA\n",
    "from sklearn.preprocessing import StandardScaler\n",
    "from sklearn.cluster import KMeans\n",
    "import matplotlib.pyplot as plt\n",
    "import seaborn as sns\n",
    "df = pd.read_csv('creditcard.csv')\n",
    "df"
   ]
  },
  {
   "cell_type": "code",
   "execution_count": null,
   "id": "1c6f38fc-af81-4c32-ac22-63e1b86050ac",
   "metadata": {},
   "outputs": [],
   "source": [
    "X = df.drop(columns=['Class']) #features\n",
    "y = df['Class'] #target\n",
    "\n",
    "#padronizar os dados\n",
    "scaler = StandardScaler()\n",
    "X_sca = scaler.fit_transform(X)\n",
    "\n",
    "#redução de dimensionalidade (PCA) - simplifica a visualização e eficiência\n",
    "pca = PCA(n_components=2) #novo conjunto de dados com apenas duas dimensões, pegam a maior parte da variação\n",
    "X_pca = pca.fit_transform(X_sca)\n",
    "print('componentes principais:')\n",
    "print(pca.components_)\n",
    "\n",
    "#K-means \n",
    "kmeans = KMeans(n_clusters=2, random_state=42) #dois clusters, um para fraude e outro não fraude\n",
    "predict = kmeans.fit_predict(X_pca) #encontrando os dois centros\n",
    "df['Cluster'] = predict\n",
    "\n",
    "#matriz de confusão para determinar qual cluster é de fraude\n",
    "matrix = pd.crosstab(df['Class'], df['Cluster'], rownames=['Class'], colnames=['Cluster']) #cria a tabela (class x cluster)\n",
    "print(matrix)\n",
    "fraude_cluster = matrix.idxmax(axis=1)[1] #qual cluster tem mais fraudes\n",
    "\n",
    "print(f'O cluster que representa fraudes é: {fraude_cluster}')\n",
    "\n",
    "# Printa a inércia do modelo\n",
    "print(f'Inercia do modelo: {kmeans.inertia_}')"
   ]
  },
  {
   "cell_type": "code",
   "execution_count": null,
   "id": "e68984a7",
   "metadata": {},
   "outputs": [],
   "source": [
    "# Cria df auxiliar para plotagem do gráfico\n",
    "df_teste = pd.DataFrame(X_pca)\n",
    "df_teste['class'] = df['Class']\n",
    "df_teste['cluster'] = predict\n",
    "df_teste\n",
    "\n",
    "\n",
    "df0 = df_teste[df_teste['cluster'] == 0] # dados apenas classificados como 0\n",
    "df1 = df_teste[df_teste['cluster'] == 1] # dados apenas classificados como 1\n",
    "\n",
    "plt.scatter(df1.iloc[:,0], df1.iloc[:,1], color='red') # plota o agrupamento de dados 1\n",
    "plt.scatter(df0.iloc[:,0], df0.iloc[:,1], color='blue') # plota o agrupamento de dados 0\n",
    "\n",
    "plt.ylabel('Component 1')\n",
    "plt.xlabel('Component 2')\n",
    "#plt.legend()\n"
   ]
  },
  {
   "cell_type": "code",
   "execution_count": null,
   "id": "a1a03130",
   "metadata": {},
   "outputs": [],
   "source": [
    "# Cria gráfico de cotovelo\n",
    "from sklearn.cluster import KMeans\n",
    "k_range = range(1,10)\n",
    "inertias = []\n",
    "for k in k_range:\n",
    "    kn = KMeans(n_clusters=k, random_state=0)\n",
    "    kn.fit(X_pca)\n",
    "    inertias.append(kn.inertia_)\n",
    "\n",
    "plt.plot(k_range, inertias)\n",
    "plt.ylabel('Inercia do modelo')\n",
    "plt.xlabel('Cluster')\n",
    "plt.title('Elbow Method')"
   ]
  }
 ],
 "metadata": {
  "kernelspec": {
   "display_name": "Python 3 (ipykernel)",
   "language": "python",
   "name": "python3"
  },
  "language_info": {
   "codemirror_mode": {
    "name": "ipython",
    "version": 3
   },
   "file_extension": ".py",
   "mimetype": "text/x-python",
   "name": "python",
   "nbconvert_exporter": "python",
   "pygments_lexer": "ipython3",
   "version": "3.12.3"
  }
 },
 "nbformat": 4,
 "nbformat_minor": 5
}
