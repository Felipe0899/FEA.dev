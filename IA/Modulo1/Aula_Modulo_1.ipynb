{
 "cells": [
  {
   "cell_type": "markdown",
   "metadata": {},
   "source": [
    "# Módulo 1: Aprendizado Supervisionado"
   ]
  },
  {
   "cell_type": "markdown",
   "metadata": {},
   "source": [
    "<div><p>Machine learning é o processo no qual programas aprendem a tomar decisões a partir da análise de dados sem ter alguma programação prévia.</p>\n",
    "\n",
    "<p><strong>Ex:</strong></p>\n",
    "\n",
    "<p>Previsão de preços de imóveis a partir da análise de imóveis reais</p>\n",
    "\n",
    "<p>Classificação taxonômica a partir de critérios anatômicos de seres vivos</p>"
   ]
  },
  {
   "cell_type": "code",
   "execution_count": 1,
   "metadata": {},
   "outputs": [],
   "source": [
    "import pandas as pd\n",
    "import numpy as np\n",
    "import matplotlib.pyplot as plt\n",
    "import seaborn as sns\n",
    "import plotly.express as px\n",
    "from sklearn.preprocessing import StandardScaler\n",
    "from sklearn import preprocessing"
   ]
  },
  {
   "cell_type": "code",
   "execution_count": 2,
   "metadata": {},
   "outputs": [],
   "source": [
    "caminho = \"Churn_train.csv\"\n",
    "df = pd.read_csv(caminho, sep = \",\", index_col=0)\n",
    "df = df.dropna()"
   ]
  },
  {
   "cell_type": "markdown",
   "metadata": {},
   "source": [
    "## Unsupervised Learning\n",
    "\n",
    "<p>Aprendizado não supervisionado é um tipo de machine learning que busca descobrir padrões a partir de dados não categorizados</p>\n",
    "\n",
    "<p><strong>Ex:</strong></p>\n",
    "\n",
    "<p>Classificação e agrupamento de clientes a partir de seus consumos</p>\n"
   ]
  },
  {
   "cell_type": "markdown",
   "metadata": {},
   "source": [
    "## Supervised Learning\n",
    "\n",
    "<p>Aprendizado supervisionado é um tipo de machine learning que busca prever valores já conhecidos. Desta forma, o computador pode testar previsões e ajustar seu modelo. Por meio do aprendizado supervisionado modelos podem ser treinados para prever valores desconhecidos, chamados de target variables, a partir de dados conhecidos, chamados de<em> </em>features.</p>\n",
    "\n",
    "\n",
    "<p>Target variables também podem ser chamadas de variáveis independentes ou predictor variables. </p>\n",
    "\n",
    "<p>Do mesmo modo, features podem ser chamadas de variáveis dependentes ou variáveis resposta</p>\n",
    "\n",
    "## Tipos de Supervised Learning\n",
    "\n",
    "### Modelo de Classificação\n",
    "\n",
    "<p>Busca prever <strong>valores categóricos.</strong></p>\n",
    "\n",
    "<p><strong>Ex:</strong></p>\n",
    "\n",
    "* Prever inadimplência\n",
    "\n",
    "<br>\n",
    "\n",
    "### Modelo de Regressão\n",
    "\n",
    "<p>Busca prever <strong>valores numéricos</strong> que existem em um contínuo.</p>\n",
    "\n",
    "<p><strong>Ex:</strong></p>\n",
    "\n",
    "* Prever o valor de imóveis\n",
    "\n",
    "<p>Para que modelos de aprendizado supervisionado funcionem é necessário que certos requerimentos sejam correspondidos: não deve haver valores vazios, todos os dados analisados devem ser numéricos, dados devem ser armazenados em Pandas DataFrame ou em Numpy Arrays.</p>"
   ]
  },
  {
   "cell_type": "markdown",
   "metadata": {},
   "source": [
    "## Variáveis Dummy\n",
    "\n",
    "<p>Um dos pré -requisitos para construir um modelo de aprendizado supervisionado é que todas suas features sejam valores numéricos. Contudo muitas características importantes para o aprendizado da máquina podem ser variáveis categóricas (gênero, cor, tipo de música, etc.). Por isso é importante converter valores categóricos para números por meio da criação de dummies.</p>\n",
    "\n",
    "<p>Dummies são valores binários que indicam se um dado corresponde ou não a uma categoria.</p>\n",
    "\n",
    "<br>"
   ]
  },
  {
   "cell_type": "markdown",
   "metadata": {},
   "source": [
    "![Alt text](image.png)"
   ]
  },
  {
   "cell_type": "code",
   "execution_count": 3,
   "metadata": {},
   "outputs": [],
   "source": [
    "df_dummy = pd.get_dummies(df[['Gender', 'Subscription Type', 'Contract Length']])\n",
    "df = pd.concat([df, df_dummy], axis=1)\n",
    "df.drop(['Gender', 'Subscription Type', 'Contract Length'], axis=1, inplace=True)"
   ]
  },
  {
   "cell_type": "code",
   "execution_count": 4,
   "metadata": {},
   "outputs": [],
   "source": [
    "from sklearn.model_selection import train_test_split\n",
    "from sklearn.preprocessing import StandardScaler\n",
    "\n",
    "escala = StandardScaler()\n",
    "df_scaled = pd.DataFrame(escala.fit_transform(df))\n",
    "df_scaled.columns = df.columns"
   ]
  },
  {
   "cell_type": "markdown",
   "metadata": {},
   "source": [
    "### Split"
   ]
  },
  {
   "cell_type": "code",
   "execution_count": 5,
   "metadata": {},
   "outputs": [],
   "source": [
    "X_non_scaled = df.drop('Churn', axis=1)\n",
    "y = df['Churn']\n",
    "\n",
    "X = pd.DataFrame(escala.fit_transform(X_non_scaled))\n",
    "X.columns = X_non_scaled.columns\n",
    "\n",
    "X_train, X_test, y_train, y_test = train_test_split(X, y, test_size=0.2, random_state=42)"
   ]
  },
  {
   "cell_type": "markdown",
   "metadata": {},
   "source": [
    "## Principais Algoritmos\n",
    "\n",
    "### k-Vizinhos Mais Próximos (KNN)\n",
    "\n",
    "<p>O algoritmo KNN é um algoritmo de classificação que busca prever a categoria de dados a partir de seus <strong>k</strong><strong>  </strong>\"vizinhos mais próximos\". </p>\n",
    "\n",
    "<p>Vizinhos mais próximos são dados com features similares ao do valor desconhecido. Quanto mais similares as features de dois dados menor a distância entre eles.</p>\n",
    "\n",
    "<p>Desta forma o algoritmo KNN prevê um dado com base na classificação da maioria de seus vizinhos.</p>\n",
    "\n",
    "<br>"
   ]
  },
  {
   "cell_type": "code",
   "execution_count": 6,
   "metadata": {},
   "outputs": [
    {
     "name": "stdout",
     "output_type": "stream",
     "text": [
      "0.9598602651785816\n"
     ]
    }
   ],
   "source": [
    "from sklearn.neighbors import KNeighborsClassifier\n",
    "    \n",
    "knn = KNeighborsClassifier(n_neighbors= 5)\n",
    "knn.fit(X_train,y_train)\n",
    "print(knn.score(X_test, y_test))\n",
    "y_pred_knn = knn.predict(X_test)"
   ]
  },
  {
   "cell_type": "markdown",
   "metadata": {},
   "source": [
    "### Regressão Linear\n",
    "\n",
    "<p>Regressão Linear é um algoritmo de regressão que busca prever valores numéricos a partir do cálculo de uma linha.</p>\n",
    "\n",
    "<p>O algoritmo busca a linha com menor soma residual dos quadrados possível entre as distâncias de pontos à linha. Esses pontos são definidos a partir de variáveis independentes (features) e uma variável dependente(target variable). </p>\n",
    "\n",
    "<strong>A linha calculada possui formato:</strong>\n",
    "\n",
    "<p>y = a<sub>1</sub>x<sub>1</sub> + a<sub>2</sub>x<sub>2</sub> + . . . + a<sub>n</sub>x<sub>n</sub> + b</p>\n",
    "\n",
    "<p>(a<sub>1</sub>, a<sub>2</sub>, . . . , a<sub>n</sub>, b),b são variáveis que devem ser especificadas</p>\n",
    "\n",
    "<br>\n",
    "\n",
    "<p>As previsões são valores pertencentes à linha calculada. Regressões lineares como apenas uma feature são chamadas de regressões simples. Regressão com múltiplas features são chamadas de regressões múltiplas. </p>\n",
    "\n",
    "<p>A métrica <strong>R<sup>2</sup></strong> ou coeficiente de determinação é comumente utilizada para verificar regressões lineares. A métrica quantifica a variância do valores target em um intervalo de 0 a 1. 1 significa que o modelo explica 100% da variância da variável target e 0 significa 0%.</p>\n",
    "\n",
    "<p>Outra métrica importante na avaliação de modelos de regressão linear é a <strong>raiz do erro quadrático médio RMSE</strong></p>\n",
    "\n",
    "<br>"
   ]
  },
  {
   "cell_type": "code",
   "execution_count": 8,
   "metadata": {},
   "outputs": [],
   "source": [
    "#from sklearn.linear_model import LinearRegression\n",
    "#reg = LinearRegression\n",
    "#reg.fit(X_train,y_train)"
   ]
  },
  {
   "cell_type": "markdown",
   "metadata": {},
   "source": [
    "### Regressão Logística\n",
    "\n",
    "<p>Regressão Logística, apesar do nome, é um algoritmo de classificação binário que busca prever classes de dados a partir de uma curva de probabilidade.</p>\n",
    "\n",
    "<p>A partir de uma regressão o algoritmo estipula uma curva de probabilidade para classificar valores binários. Para p &gt; 0,5 o valor é positivo, para p &lt; 0,5 o valor é negativo.</p>\n",
    "\n",
    "<br>\n"
   ]
  },
  {
   "cell_type": "code",
   "execution_count": 8,
   "metadata": {},
   "outputs": [],
   "source": [
    "from sklearn.linear_model import LogisticRegression\n",
    "logreg = LogisticRegression()\n",
    "logreg.fit(X_train,y_train)\n",
    "y_pred_logreg = logreg.predict(X_test)"
   ]
  },
  {
   "cell_type": "markdown",
   "metadata": {},
   "source": [
    "### Support Vector Machine (SVM)\n",
    "\n",
    "<p>SVM é um algoritmo de classificação que busca prever classes de dados a partir da definição de \"fronteiras\".</p>\n",
    "\n",
    "<p>O algoritmo atribui a cada dado um vetor de coordenadas iguais a suas variáveis independentes. O algoritmo então busca a fronteira que melhor divide as classes e possui maior separação entre os pontos. </p>"
   ]
  },
  {
   "cell_type": "code",
   "execution_count": 9,
   "metadata": {},
   "outputs": [],
   "source": [
    "from sklearn.svm import SVC\n",
    "svc = SVC()\n",
    "svc.fit(X_train,y_train)\n",
    "y_pred_svc = svc.predict(X_test)"
   ]
  },
  {
   "cell_type": "markdown",
   "metadata": {},
   "source": [
    "## Overfitting e Underfitting\n",
    "\n",
    "<p>Um fator importante a ser avaliado em modelos de machine learning é sua complexidade. A complexidade de um modelo é definida por fatores como, tamanho da amostra de treino e parâmetros.</p>\n",
    "\n",
    "* <p>Modelos muito simples podem ser pouco sensíveis ou incapazes de identificar relações entre os dados. Esse fenômeno é conhecido como <strong>underfitting</strong>.</p>\n",
    "\n",
    "* <p>Modelos muito complexos podem ser extremamente sensíveis a variações aleatórias no dado tornando-os incapazes de identificar corretamente as relações entre os dados. Esse fenômeno é conhecido como <strong>overfitting</strong>.</p>\n",
    "\n",
    "<p><strong> </strong></p>\n",
    "\n",
    "<br>"
   ]
  },
  {
   "cell_type": "markdown",
   "metadata": {},
   "source": [
    "## Cross Validation\n",
    "\n",
    "<p>Para a realização de aprendizado supervisionado é primeiro necessário dividir o dataset em um grupo para treino e outro para teste. Contudo ao dividir nosso dataset é possível que nossa amostra possua algum viés que afetará a capacidade do modelo de efetivamente prever resultados.</p>\n",
    "\n",
    "<p>Para que possíveis falhas como essa não afetem o treinamento de um modelo é comum utilizar-se o método de cross validation.</p>\n",
    "\n",
    "<p>Cross validation consiste em subdividir o dataset em grupos chamados <strong>folds. </strong>Cada fold é utilizado para dividir o dataset entre teste e treino (splits). Para cada split é gerada uma métrica que pode ser utilizada na análise do modelo. O número de folds é representado pela letra \"k\". Para cada k-folds serão geradas k métricas, portanto, quanto maior for o número de folds maior será a demanda computacional do processo.</p>"
   ]
  },
  {
   "cell_type": "code",
   "execution_count": 10,
   "metadata": {},
   "outputs": [
    {
     "name": "stdout",
     "output_type": "stream",
     "text": [
      "0.9600346624960359 0.00017072313769814551\n"
     ]
    }
   ],
   "source": [
    "from sklearn.model_selection import cross_val_score, KFold\n",
    "\n",
    "\n",
    "kf = KFold(n_splits=5, shuffle=True,random_state=42 )\n",
    "knn_cv_results = cross_val_score(knn, X, y, cv=kf)\n",
    "print(np.mean(knn_cv_results),np.std(knn_cv_results))"
   ]
  },
  {
   "cell_type": "markdown",
   "metadata": {},
   "source": [
    "## Métricas de Avaliação\n",
    "\n",
    "<p align='center'>\n",
    "    <img src='https://miro.medium.com/v2/resize:fit:828/format:webp/1*wEniP5HewaUSHeIF1_bEiw.png'>\n",
    "\n",
    "* Alta acurácia indica uma alta taxa de acerto\n",
    "* Alta precisão indica uma baixa taxa de falsos positivos\n",
    "* Alto recall indica uma baixa taxa de falsos negativos\n",
    "* Alto F1 Score indica uma alta precisão e alto recall, particularmente útil em modelos em que ambas as métricas são"
   ]
  },
  {
   "cell_type": "markdown",
   "metadata": {},
   "source": [
    "### Confusion Matrix"
   ]
  },
  {
   "cell_type": "code",
   "execution_count": 11,
   "metadata": {},
   "outputs": [
    {
     "name": "stdout",
     "output_type": "stream",
     "text": [
      "[[37970    93]\n",
      " [ 3446 46658]]\n"
     ]
    }
   ],
   "source": [
    "from sklearn.metrics import confusion_matrix\n",
    "print(confusion_matrix(y_test,y_pred_knn))"
   ]
  },
  {
   "cell_type": "markdown",
   "metadata": {},
   "source": [
    "### Classification Report"
   ]
  },
  {
   "cell_type": "code",
   "execution_count": 12,
   "metadata": {},
   "outputs": [
    {
     "name": "stdout",
     "output_type": "stream",
     "text": [
      "              precision    recall  f1-score   support\n",
      "\n",
      "         0.0       0.92      1.00      0.96     38063\n",
      "         1.0       1.00      0.93      0.96     50104\n",
      "\n",
      "    accuracy                           0.96     88167\n",
      "   macro avg       0.96      0.96      0.96     88167\n",
      "weighted avg       0.96      0.96      0.96     88167\n",
      "\n"
     ]
    }
   ],
   "source": [
    "from sklearn.metrics import classification_report\n",
    "print(classification_report(y_test,y_pred_knn))"
   ]
  },
  {
   "cell_type": "markdown",
   "metadata": {},
   "source": [
    "### Curva ROC e AUC\n",
    "\n",
    "<p>A curva de Receiver Operating Characteristic (ROC) é um curva formada a partir da variação de thresholds em modelos de aprendizado supervisionado. </p>\n",
    "\n",
    "<p>A área abaixo da curva ROC (ROC AUC) é um valor que varia de 0 a 1 em que 1 é o ideal.</p>\n",
    "\n",
    "<br>"
   ]
  },
  {
   "cell_type": "code",
   "execution_count": 13,
   "metadata": {},
   "outputs": [],
   "source": [
    "from sklearn.metrics import roc_curve, roc_auc_score, auc\n",
    "\n",
    "fpr_knn, tpr_knn, _ = roc_curve(y_test, y_pred_knn)\n",
    "roc_auc_knn = auc(fpr_knn, tpr_knn)\n",
    "\n",
    "fpr_logreg, tpr_logreg, _ = roc_curve(y_test, y_pred_logreg )\n",
    "roc_auc_logreg = auc(fpr_logreg, tpr_logreg)\n",
    "\n",
    "fpr_svc, tpr_svc, _ = roc_curve(y_test, y_pred_svc)\n",
    "roc_auc_svc = auc(fpr_svc, tpr_svc)"
   ]
  },
  {
   "cell_type": "code",
   "execution_count": 14,
   "metadata": {},
   "outputs": [
    {
     "data": {
      "image/png": "[encoded data removed]",
      "text/plain": [
       "<Figure size 800x600 with 1 Axes>"
      ]
     },
     "metadata": {},
     "output_type": "display_data"
    }
   ],
   "source": [
    "plt.figure(figsize=(8, 6))\n",
    "plt.plot(fpr_knn, tpr_knn, color='darkorange', lw=2, label=f'ROC Curve (AUC =  %0.3f) - KNN' %roc_auc_knn)\n",
    "plt.plot(fpr_logreg, tpr_logreg, color='darkgreen', lw=2, label=f'ROC Curve (AUC =  %0.3f) - LogisticeRgression' %roc_auc_logreg)\n",
    "plt.plot(fpr_svc, tpr_svc, color='navy', lw=2, marker='.', label=f'ROC Curve (AUC =  %0.3f) - SVC' %roc_auc_svc)\n",
    "plt.plot([0, 1], [0, 1], color='gray', linestyle='--')\n",
    "plt.xlim([0.0, 1.0])\n",
    "plt.ylim([0.0, 1.05])\n",
    "plt.xlabel('False Positive Rate')\n",
    "plt.ylabel('True Positive Rate')\n",
    "plt.title('ROC')\n",
    "plt.legend(loc='lower right')\n",
    "plt.show()"
   ]
  },
  {
   "cell_type": "markdown",
   "metadata": {},
   "source": [
    "### Ajuste de Hiperparâmetros\n",
    "\n",
    "<p>Hiperparâmetros são parâmetros definidos antes do treinamento de um modelo. Para cada modelo existem hiperparâmetros ideais que maximizam sua efetividade, desta forma, é muito importante encontrarmos os hiperparâmetros certos para nosso modelo.</p>\n",
    "\n",
    "<p><strong>Principais hiperparâmetros para:</strong></p>\n",
    "\n",
    "* <p>Logistic Regression: <strong>C</strong>, <strong>solver</strong></p>\n",
    "\n",
    "* <p>SVM: <strong>kernels</strong>, <strong>C</strong></p>\n",
    "\n",
    "* <p>KNN: <strong>n_neighbors</strong></p> \n"
   ]
  },
  {
   "cell_type": "markdown",
   "metadata": {},
   "source": [
    "### Grid Searh Cross Validation\n",
    "\n",
    "<p>Grid Search CV é um método no qual todas as combinações de variações de hiperparâmetros definidos são avaliadas a praticar de cross-validation. Os hiperparâmetros que retornam a maior média das métricas são escolhidos como melhores</p>"
   ]
  },
  {
   "cell_type": "code",
   "execution_count": 11,
   "metadata": {},
   "outputs": [
    {
     "name": "stdout",
     "output_type": "stream",
     "text": [
      "{'metric': 'euclidean', 'n_neighbors': 1} 0.9547984631307331\n"
     ]
    }
   ],
   "source": [
    "from sklearn.model_selection import GridSearchCV, KFold\n",
    "\n",
    "params = {\n",
    "    \"n_neighbors\" : np.arange(1,20,5),\n",
    "    \"metric\" : [\"euclidean\",\"manhattan\"]\n",
    "          }\n",
    "\n",
    "kf = KFold(n_splits=3, shuffle=True,random_state=42 )\n",
    "knn_cv = GridSearchCV(knn, params, cv=kf)\n",
    "knn_cv.fit(X_train, y_train)\n",
    "\n",
    "print(knn_cv.best_params_ , knn_cv.best_score_)"
   ]
  },
  {
   "cell_type": "markdown",
   "metadata": {},
   "source": [
    "### Random Searh Cross Validation\n",
    "\n",
    "<p>Random Search CV é um método no qual combinações aleatórias de variações de hiperparâmetros definidos são avaliadas a praticar de cross-validation. Os hiperparâmetros que retornam a maior média das métricas são escolhidos como melhores</p>"
   ]
  },
  {
   "cell_type": "code",
   "execution_count": 7,
   "metadata": {},
   "outputs": [
    {
     "name": "stdout",
     "output_type": "stream",
     "text": [
      "{'n_neighbors': 11, 'metric': 'manhattan'} 0.9502417308210341\n"
     ]
    }
   ],
   "source": [
    "from sklearn.model_selection import RandomizedSearchCV, KFold\n",
    "\n",
    "params = {\n",
    "    \"n_neighbors\" : np.arange(1,20,5),\n",
    "    \"metric\" : [\"euclidean\",\"manhattan\"]\n",
    "          }\n",
    "\n",
    "kf = KFold(n_splits=3, shuffle=True,random_state=42 )\n",
    "knn_cv = RandomizedSearchCV(knn, params, cv=kf, n_iter = 2)\n",
    "knn_cv.fit(X_train, y_train)\n",
    "\n",
    "print(knn_cv.best_params_ , knn_cv.best_score_)"
   ]
  }
 ],
 "metadata": {
  "kernelspec": {
   "display_name": "Python 3",
   "language": "python",
   "name": "python3"
  },
  "language_info": {
   "codemirror_mode": {
    "name": "ipython",
    "version": 3
   },
   "file_extension": ".py",
   "mimetype": "text/x-python",
   "name": "python",
   "nbconvert_exporter": "python",
   "pygments_lexer": "ipython3",
   "version": "3.11.3"
  },
  "orig_nbformat": 4
 },
 "nbformat": 4,
 "nbformat_minor": 2
}
